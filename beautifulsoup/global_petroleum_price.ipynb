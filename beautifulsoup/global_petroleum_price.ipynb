{
 "cells": [
  {
   "cell_type": "code",
   "execution_count": 1,
   "metadata": {},
   "outputs": [],
   "source": [
    "import requests\n",
    "from bs4 import BeautifulSoup\n",
    "import pandas as pd"
   ]
  },
  {
   "cell_type": "code",
   "execution_count": 2,
   "metadata": {},
   "outputs": [],
   "source": [
    "def get_soup(url):\n",
    "    response = requests.get(url)\n",
    "    soup = BeautifulSoup(response.text , 'html')\n",
    "    return soup\n",
    "\n",
    "def get_price_with_country(soup):\n",
    "    country_divs = soup.find_all('div', class_='outsideTitleElement')\n",
    "    country = [country_div.text.strip().replace('*', '') for country_div in country_divs]\n",
    "\n",
    "    price_divs= soup.find_all('div', style=\"position: absolute; top: 2px; left: 7px; height: 15px; color: #000000;\")\n",
    "    price = [price_div.text.strip() for price_div in price_divs]\n",
    "\n",
    "    return country, price\n",
    "\n",
    "def get_dataframe(country, price):\n",
    "    df = pd.DataFrame()\n",
    "    df['country'] = country\n",
    "    df['price'] = price\n",
    "    return df"
   ]
  },
  {
   "cell_type": "code",
   "execution_count": 3,
   "metadata": {},
   "outputs": [],
   "source": [
    "energy_sources = ['gasoline','diesel','lpg','electricity','natural_gas']\n",
    "\n",
    "combined_df = None\n",
    "\n",
    "for energy_source in energy_sources:\n",
    "    url = f'https://www.globalpetrolprices.com/{energy_source}_prices/'\n",
    "    soup = get_soup(url)\n",
    "    country , price = get_price_with_country(soup)\n",
    "    if combined_df is not None:\n",
    "        df = get_dataframe(country, price)\n",
    "        df.rename(columns = {'price':energy_source}, inplace = True)\n",
    "        combined_df = combined_df.merge(df, on='country', how='outer')\n",
    "    else:\n",
    "        combined_df = get_dataframe(country, price)\n",
    "        combined_df.rename(columns = {'price':energy_source}, inplace = True)\n",
    "\n"
   ]
  },
  {
   "cell_type": "code",
   "execution_count": 4,
   "metadata": {},
   "outputs": [
    {
     "data": {
      "text/html": [
       "<div>\n",
       "<style scoped>\n",
       "    .dataframe tbody tr th:only-of-type {\n",
       "        vertical-align: middle;\n",
       "    }\n",
       "\n",
       "    .dataframe tbody tr th {\n",
       "        vertical-align: top;\n",
       "    }\n",
       "\n",
       "    .dataframe thead th {\n",
       "        text-align: right;\n",
       "    }\n",
       "</style>\n",
       "<table border=\"1\" class=\"dataframe\">\n",
       "  <thead>\n",
       "    <tr style=\"text-align: right;\">\n",
       "      <th></th>\n",
       "      <th>country</th>\n",
       "      <th>gasoline</th>\n",
       "      <th>diesel</th>\n",
       "      <th>lpg</th>\n",
       "      <th>electricity</th>\n",
       "      <th>natural_gas</th>\n",
       "    </tr>\n",
       "  </thead>\n",
       "  <tbody>\n",
       "    <tr>\n",
       "      <th>0</th>\n",
       "      <td>Iran</td>\n",
       "      <td>0.029</td>\n",
       "      <td>0.006</td>\n",
       "      <td>NaN</td>\n",
       "      <td>0.002</td>\n",
       "      <td>0.001</td>\n",
       "    </tr>\n",
       "    <tr>\n",
       "      <th>1</th>\n",
       "      <td>Libya</td>\n",
       "      <td>0.031</td>\n",
       "      <td>0.031</td>\n",
       "      <td>NaN</td>\n",
       "      <td>0.008</td>\n",
       "      <td>NaN</td>\n",
       "    </tr>\n",
       "    <tr>\n",
       "      <th>2</th>\n",
       "      <td>Venezuela</td>\n",
       "      <td>0.035</td>\n",
       "      <td>0.004</td>\n",
       "      <td>NaN</td>\n",
       "      <td>0.046</td>\n",
       "      <td>NaN</td>\n",
       "    </tr>\n",
       "    <tr>\n",
       "      <th>3</th>\n",
       "      <td>Algeria</td>\n",
       "      <td>0.338</td>\n",
       "      <td>0.214</td>\n",
       "      <td>0.066</td>\n",
       "      <td>0.039</td>\n",
       "      <td>0.003</td>\n",
       "    </tr>\n",
       "    <tr>\n",
       "      <th>4</th>\n",
       "      <td>Kuwait</td>\n",
       "      <td>0.340</td>\n",
       "      <td>0.372</td>\n",
       "      <td>NaN</td>\n",
       "      <td>0.029</td>\n",
       "      <td>NaN</td>\n",
       "    </tr>\n",
       "  </tbody>\n",
       "</table>\n",
       "</div>"
      ],
      "text/plain": [
       "     country gasoline diesel    lpg electricity natural_gas\n",
       "0       Iran    0.029  0.006    NaN       0.002       0.001\n",
       "1      Libya    0.031  0.031    NaN       0.008         NaN\n",
       "2  Venezuela    0.035  0.004    NaN       0.046         NaN\n",
       "3    Algeria    0.338  0.214  0.066       0.039       0.003\n",
       "4     Kuwait    0.340  0.372    NaN       0.029         NaN"
      ]
     },
     "execution_count": 4,
     "metadata": {},
     "output_type": "execute_result"
    }
   ],
   "source": [
    "combined_df.head()"
   ]
  },
  {
   "cell_type": "code",
   "execution_count": 5,
   "metadata": {},
   "outputs": [],
   "source": [
    "combined_df.to_csv('energy-source-price.csv', index=False)"
   ]
  },
  {
   "cell_type": "code",
   "execution_count": null,
   "metadata": {},
   "outputs": [],
   "source": []
  }
 ],
 "metadata": {
  "kernelspec": {
   "display_name": "scraping-env",
   "language": "python",
   "name": "python3"
  },
  "language_info": {
   "codemirror_mode": {
    "name": "ipython",
    "version": 3
   },
   "file_extension": ".py",
   "mimetype": "text/x-python",
   "name": "python",
   "nbconvert_exporter": "python",
   "pygments_lexer": "ipython3",
   "version": "3.10.12"
  }
 },
 "nbformat": 4,
 "nbformat_minor": 2
}

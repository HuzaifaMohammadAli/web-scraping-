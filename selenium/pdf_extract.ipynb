{
 "cells": [
  {
   "cell_type": "code",
   "execution_count": null,
   "metadata": {},
   "outputs": [],
   "source": [
    "from selenium import webdriver\n",
    "from selenium.webdriver.chrome.service import Service as ChromeService\n",
    "from webdriver_manager.chrome import ChromeDriverManager\n",
    "from selenium.webdriver.common.by import By\n",
    "import pandas as pd\n",
    "from selenium.common.exceptions import NoSuchElementException\n",
    "from time import sleep\n",
    "import re\n",
    "import os\n",
    "from selenium.webdriver.common.keys import Keys"
   ]
  },
  {
   "cell_type": "code",
   "execution_count": null,
   "metadata": {},
   "outputs": [],
   "source": [
    "driver = webdriver.Chrome(service=ChromeService(ChromeDriverManager().install()))"
   ]
  },
  {
   "cell_type": "code",
   "execution_count": null,
   "metadata": {},
   "outputs": [],
   "source": [
    "driver.get('https://www.google.com')\n",
    "\n",
    "# Find the search box and enter the search query\n",
    "search_box = driver.find_element(By.NAME, 'q')\n",
    "search_box.send_keys('research filetype:pdf')\n",
    "search_box.send_keys(Keys.RETURN)"
   ]
  },
  {
   "cell_type": "code",
   "execution_count": null,
   "metadata": {},
   "outputs": [],
   "source": [
    "import requests\n",
    "# Find all the links on the page\n",
    "links = driver.find_elements(By.XPATH, '//a[@href]')\n",
    "\n",
    "# Create a directory to store the PDFs\n",
    "if not os.path.exists('pdfs'):\n",
    "    os.makedirs('pdfs')\n",
    "\n",
    "# Loop through the links and download the PDFs\n",
    "for link in links:\n",
    "    href = link.get_attribute('href')\n",
    "    if href and href.endswith('.pdf'):\n",
    "        try:\n",
    "            response = requests.get(href)\n",
    "            if response.status_code == 200:\n",
    "                filename = os.path.join('pdfs', os.path.basename(href))\n",
    "                with open(filename, 'wb') as file:\n",
    "                    file.write(response.content)\n",
    "                print(f'Downloaded: {filename}')\n",
    "            else:\n",
    "                print(f'Failed to download: {href}')\n",
    "        except Exception as e:\n",
    "            print(f'Error downloading {href}: {e}')"
   ]
  },
  {
   "cell_type": "code",
   "execution_count": null,
   "metadata": {},
   "outputs": [],
   "source": []
  }
 ],
 "metadata": {
  "kernelspec": {
   "display_name": "selenium_scrapped",
   "language": "python",
   "name": "python3"
  },
  "language_info": {
   "codemirror_mode": {
    "name": "ipython",
    "version": 3
   },
   "file_extension": ".py",
   "mimetype": "text/x-python",
   "name": "python",
   "nbconvert_exporter": "python",
   "pygments_lexer": "ipython3",
   "version": "3.10.12"
  }
 },
 "nbformat": 4,
 "nbformat_minor": 2
}
